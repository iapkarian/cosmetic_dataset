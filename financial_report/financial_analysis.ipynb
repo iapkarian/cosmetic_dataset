{
 "cells": [
  {
   "cell_type": "markdown",
   "metadata": {
    "collapsed": true
   },
   "source": [
    "# Financial analysis of the two Beauty Salons"
   ]
  },
  {
   "cell_type": "code",
   "execution_count": 2,
   "metadata": {
    "collapsed": true
   },
   "outputs": [],
   "source": [
    "import numpy as np\n",
    "import pandas as pd\n",
    "import matplotlib.pyplot as plt\n",
    "\n",
    "%matplotlib inline\n",
    "\n",
    "# Set ipython's max row display\n",
    "pd.set_option('display.max_row', 1000)\n",
    "\n",
    "# Set iPython's max column width to 50\n",
    "pd.set_option('display.max_columns', 50)"
   ]
  },
  {
   "cell_type": "markdown",
   "metadata": {},
   "source": [
    "### Merge two financial reports"
   ]
  },
  {
   "cell_type": "code",
   "execution_count": 38,
   "metadata": {
    "collapsed": false
   },
   "outputs": [
    {
     "data": {
      "text/html": [
       "<div>\n",
       "<table border=\"1\" class=\"dataframe\">\n",
       "  <thead>\n",
       "    <tr style=\"text-align: right;\">\n",
       "      <th></th>\n",
       "      <th>date</th>\n",
       "      <th>client</th>\n",
       "      <th>procedure</th>\n",
       "      <th>price</th>\n",
       "      <th>deposit</th>\n",
       "      <th>salon</th>\n",
       "    </tr>\n",
       "  </thead>\n",
       "  <tbody>\n",
       "    <tr>\n",
       "      <th>0</th>\n",
       "      <td>May 2, 16</td>\n",
       "      <td>Haxe</td>\n",
       "      <td>Bamboo Massage</td>\n",
       "      <td>159</td>\n",
       "      <td>NaN</td>\n",
       "      <td>Elegant</td>\n",
       "    </tr>\n",
       "    <tr>\n",
       "      <th>1</th>\n",
       "      <td>May 2, 16</td>\n",
       "      <td>Petraniuk</td>\n",
       "      <td>Acrylic Nails</td>\n",
       "      <td>32</td>\n",
       "      <td>NaN</td>\n",
       "      <td>Elegant</td>\n",
       "    </tr>\n",
       "    <tr>\n",
       "      <th>2</th>\n",
       "      <td>May 2, 16</td>\n",
       "      <td>Sheremet</td>\n",
       "      <td>Acrylic Nails</td>\n",
       "      <td>32</td>\n",
       "      <td>NaN</td>\n",
       "      <td>Elegant</td>\n",
       "    </tr>\n",
       "    <tr>\n",
       "      <th>3</th>\n",
       "      <td>May 3, 16</td>\n",
       "      <td>Rusmanenko</td>\n",
       "      <td>Fire &amp; Ice</td>\n",
       "      <td>350</td>\n",
       "      <td>NaN</td>\n",
       "      <td>Elegant</td>\n",
       "    </tr>\n",
       "    <tr>\n",
       "      <th>4</th>\n",
       "      <td>May 3, 16</td>\n",
       "      <td>Kisly</td>\n",
       "      <td>Acrylic Nails</td>\n",
       "      <td>32</td>\n",
       "      <td>NaN</td>\n",
       "      <td>Elegant</td>\n",
       "    </tr>\n",
       "    <tr>\n",
       "      <th>0</th>\n",
       "      <td>May 3, 16</td>\n",
       "      <td>Garty</td>\n",
       "      <td>Couples Massage</td>\n",
       "      <td>269</td>\n",
       "      <td>NaN</td>\n",
       "      <td>Radisson Blu</td>\n",
       "    </tr>\n",
       "    <tr>\n",
       "      <th>5</th>\n",
       "      <td>May 4, 16</td>\n",
       "      <td>Tupis</td>\n",
       "      <td>Couples Massage</td>\n",
       "      <td>269</td>\n",
       "      <td>NaN</td>\n",
       "      <td>Elegant</td>\n",
       "    </tr>\n",
       "    <tr>\n",
       "      <th>6</th>\n",
       "      <td>May 4, 16</td>\n",
       "      <td>Avagyan</td>\n",
       "      <td>Thai Herbal Poultice</td>\n",
       "      <td>195</td>\n",
       "      <td>NaN</td>\n",
       "      <td>Elegant</td>\n",
       "    </tr>\n",
       "    <tr>\n",
       "      <th>1</th>\n",
       "      <td>May 4, 16</td>\n",
       "      <td>Brown</td>\n",
       "      <td>Bamboo Massage</td>\n",
       "      <td>159</td>\n",
       "      <td>NaN</td>\n",
       "      <td>Radisson Blu</td>\n",
       "    </tr>\n",
       "    <tr>\n",
       "      <th>7</th>\n",
       "      <td>May 5, 16</td>\n",
       "      <td>Synkivskij</td>\n",
       "      <td>Bamboo Massage</td>\n",
       "      <td>159</td>\n",
       "      <td>NaN</td>\n",
       "      <td>Elegant</td>\n",
       "    </tr>\n",
       "    <tr>\n",
       "      <th>8</th>\n",
       "      <td>May 5, 16</td>\n",
       "      <td>Vikhrov</td>\n",
       "      <td>Acrylic Nails</td>\n",
       "      <td>32</td>\n",
       "      <td>NaN</td>\n",
       "      <td>Elegant</td>\n",
       "    </tr>\n",
       "    <tr>\n",
       "      <th>9</th>\n",
       "      <td>May 5, 16</td>\n",
       "      <td>Haxe</td>\n",
       "      <td>Swedish Massage</td>\n",
       "      <td>75</td>\n",
       "      <td>NaN</td>\n",
       "      <td>Elegant</td>\n",
       "    </tr>\n",
       "    <tr>\n",
       "      <th>10</th>\n",
       "      <td>May 5, 16</td>\n",
       "      <td>Drutsa</td>\n",
       "      <td>Deck Massage</td>\n",
       "      <td>15</td>\n",
       "      <td>NaN</td>\n",
       "      <td>Elegant</td>\n",
       "    </tr>\n",
       "    <tr>\n",
       "      <th>11</th>\n",
       "      <td>May 6, 16</td>\n",
       "      <td>Sheremet</td>\n",
       "      <td>Acrylic Nails</td>\n",
       "      <td>32</td>\n",
       "      <td>NaN</td>\n",
       "      <td>Elegant</td>\n",
       "    </tr>\n",
       "  </tbody>\n",
       "</table>\n",
       "</div>"
      ],
      "text/plain": [
       "         date      client             procedure  price  deposit         salon\n",
       "0   May 2, 16        Haxe        Bamboo Massage    159      NaN       Elegant\n",
       "1   May 2, 16   Petraniuk         Acrylic Nails     32      NaN       Elegant\n",
       "2   May 2, 16    Sheremet         Acrylic Nails     32      NaN       Elegant\n",
       "3   May 3, 16  Rusmanenko            Fire & Ice    350      NaN       Elegant\n",
       "4   May 3, 16       Kisly         Acrylic Nails     32      NaN       Elegant\n",
       "0   May 3, 16       Garty       Couples Massage    269      NaN  Radisson Blu\n",
       "5   May 4, 16       Tupis       Couples Massage    269      NaN       Elegant\n",
       "6   May 4, 16     Avagyan  Thai Herbal Poultice    195      NaN       Elegant\n",
       "1   May 4, 16       Brown        Bamboo Massage    159      NaN  Radisson Blu\n",
       "7   May 5, 16  Synkivskij        Bamboo Massage    159      NaN       Elegant\n",
       "8   May 5, 16     Vikhrov         Acrylic Nails     32      NaN       Elegant\n",
       "9   May 5, 16        Haxe       Swedish Massage     75      NaN       Elegant\n",
       "10  May 5, 16      Drutsa          Deck Massage     15      NaN       Elegant\n",
       "11  May 6, 16    Sheremet         Acrylic Nails     32      NaN       Elegant"
      ]
     },
     "execution_count": 38,
     "metadata": {},
     "output_type": "execute_result"
    }
   ],
   "source": [
    "df1 = pd.read_csv('Elegant.csv')\n",
    "df1['salon'] = 'Elegant'\n",
    "\n",
    "df2 = pd.read_csv('Radisson_Blu.csv')\n",
    "df2['salon'] = 'Radisson Blu'\n",
    "\n",
    "frames = [df1, df2]\n",
    "\n",
    "df = pd.concat(frames)\n",
    "df.sort_values(by='date')"
   ]
  },
  {
   "cell_type": "markdown",
   "metadata": {},
   "source": [
    "### Profit for each salon"
   ]
  },
  {
   "cell_type": "code",
   "execution_count": 7,
   "metadata": {
    "collapsed": false
   },
   "outputs": [
    {
     "name": "stdout",
     "output_type": "stream",
     "text": [
      "[269 159]\n",
      "[269 159]\n"
     ]
    },
    {
     "data": {
      "text/plain": [
       "[0, array([269, 159]), array([269, 159]), 0, 0]"
      ]
     },
     "execution_count": 7,
     "metadata": {},
     "output_type": "execute_result"
    }
   ],
   "source": [
    "salons = []\n",
    "for elem in df['salon'].unique():\n",
    "    salons.append(elem)\n",
    "days = []\n",
    "for elem in df['date'].unique():\n",
    "    days.append(elem)\n",
    "    \n",
    "\n",
    "# for elem in salons:\n",
    "#     for row in df['Defender'][df['Outcome'] == 'win']:\n",
    "#         if elem in row:\n",
    "#             score +=1\n",
    "#         else:\n",
    "#             continue\n",
    "#     loss_pr.append(score)\n",
    "sum_rb = []; sum_el = []    \n",
    "for elem in days:\n",
    "    res = 0\n",
    "    for row in df2['date'][df2['price'] != 0 ]:\n",
    "        if elem in row:\n",
    "            print(df2['price'].values)\n",
    "            res += df2['price'].values\n",
    "            \n",
    "    sum_rb.append(res)\n",
    "sum_rb\n",
    "# days"
   ]
  },
  {
   "cell_type": "code",
   "execution_count": 37,
   "metadata": {
    "collapsed": false
   },
   "outputs": [
    {
     "data": {
      "text/plain": [
       "date\n",
       "May 2, 16    159\n",
       "May 2, 16     32\n",
       "May 2, 16     32\n",
       "May 3, 16    350\n",
       "May 3, 16     32\n",
       "May 4, 16    269\n",
       "May 4, 16    195\n",
       "May 5, 16    159\n",
       "May 5, 16     32\n",
       "May 5, 16     75\n",
       "May 5, 16     15\n",
       "May 6, 16     32\n",
       "dtype: int64"
      ]
     },
     "execution_count": 37,
     "metadata": {},
     "output_type": "execute_result"
    }
   ],
   "source": [
    "s1 = pd.Series(df1['price'].values, index = df1['date'])\n",
    "s2 = pd.Series(df2['price'].values, index = df2['date'])\n",
    "s1.add(s2,fill_value = 0)\n",
    "s1.groupby(level = 'date').sum()\n",
    "# s1.set_value()\n",
    "# print(s1)\n",
    "# s2\n",
    "s1"
   ]
  },
  {
   "cell_type": "code",
   "execution_count": 30,
   "metadata": {
    "collapsed": false
   },
   "outputs": [
    {
     "ename": "NameError",
     "evalue": "name 'index' is not defined",
     "output_type": "error",
     "traceback": [
      "\u001b[0;31m---------------------------------------------------------------------------\u001b[0m",
      "\u001b[0;31mNameError\u001b[0m                                 Traceback (most recent call last)",
      "\u001b[0;32m<ipython-input-30-9f9dce007c21>\u001b[0m in \u001b[0;36m<module>\u001b[0;34m()\u001b[0m\n\u001b[1;32m      1\u001b[0m \u001b[0mtest1\u001b[0m \u001b[0;34m=\u001b[0m \u001b[0mpd\u001b[0m\u001b[0;34m.\u001b[0m\u001b[0mSeries\u001b[0m\u001b[0;34m(\u001b[0m\u001b[0;34m[\u001b[0m\u001b[0;36m1\u001b[0m\u001b[0;34m,\u001b[0m\u001b[0;36m2\u001b[0m\u001b[0;34m,\u001b[0m\u001b[0;36m3\u001b[0m\u001b[0;34m]\u001b[0m\u001b[0;34m,\u001b[0m \u001b[0mindex\u001b[0m \u001b[0;34m=\u001b[0m \u001b[0;34m[\u001b[0m\u001b[0;34m'a'\u001b[0m\u001b[0;34m,\u001b[0m\u001b[0;34m'a'\u001b[0m\u001b[0;34m,\u001b[0m\u001b[0;34m'b'\u001b[0m\u001b[0;34m]\u001b[0m\u001b[0;34m)\u001b[0m\u001b[0;34m\u001b[0m\u001b[0m\n\u001b[0;32m----> 2\u001b[0;31m \u001b[0mtest1\u001b[0m\u001b[0;34m.\u001b[0m\u001b[0mgroupby\u001b[0m\u001b[0;34m(\u001b[0m\u001b[0mlevel\u001b[0m \u001b[0;34m=\u001b[0m \u001b[0mindex\u001b[0m\u001b[0;34m)\u001b[0m\u001b[0;34m.\u001b[0m\u001b[0msum\u001b[0m\u001b[0;34m(\u001b[0m\u001b[0;34m)\u001b[0m\u001b[0;34m\u001b[0m\u001b[0m\n\u001b[0m",
      "\u001b[0;31mNameError\u001b[0m: name 'index' is not defined"
     ]
    }
   ],
   "source": [
    "test1 = pd.Series([1,2,3], index = ['a','a','b'])\n",
    "test1.groupby(level=index).sum()"
   ]
  },
  {
   "cell_type": "code",
   "execution_count": null,
   "metadata": {
    "collapsed": true
   },
   "outputs": [],
   "source": []
  }
 ],
 "metadata": {
  "kernelspec": {
   "display_name": "Python 3",
   "language": "python",
   "name": "python3"
  },
  "language_info": {
   "codemirror_mode": {
    "name": "ipython",
    "version": 3
   },
   "file_extension": ".py",
   "mimetype": "text/x-python",
   "name": "python",
   "nbconvert_exporter": "python",
   "pygments_lexer": "ipython3",
   "version": "3.4.3"
  }
 },
 "nbformat": 4,
 "nbformat_minor": 0
}
