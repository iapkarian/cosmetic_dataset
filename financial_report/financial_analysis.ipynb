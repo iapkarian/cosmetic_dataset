{
 "cells": [
  {
   "cell_type": "markdown",
   "metadata": {
    "collapsed": true
   },
   "source": [
    "# Financial analysis of the two Beauty Salons"
   ]
  },
  {
   "cell_type": "code",
   "execution_count": 1,
   "metadata": {
    "collapsed": true
   },
   "outputs": [],
   "source": [
    "import numpy as np\n",
    "import pandas as pd\n",
    "import matplotlib.pyplot as plt\n",
    "\n",
    "%matplotlib inline\n",
    "\n",
    "# Set ipython's max row display\n",
    "pd.set_option('display.max_row', 1000)\n",
    "\n",
    "# Set iPython's max column width to 50\n",
    "pd.set_option('display.max_columns', 50)"
   ]
  },
  {
   "cell_type": "markdown",
   "metadata": {},
   "source": [
    "### Merge two financial reports"
   ]
  },
  {
   "cell_type": "code",
   "execution_count": 11,
   "metadata": {
    "collapsed": false
   },
   "outputs": [
    {
     "data": {
      "text/html": [
       "<div>\n",
       "<table border=\"1\" class=\"dataframe\">\n",
       "  <thead>\n",
       "    <tr style=\"text-align: right;\">\n",
       "      <th></th>\n",
       "      <th>date</th>\n",
       "      <th>client</th>\n",
       "      <th>procedure</th>\n",
       "      <th>price</th>\n",
       "      <th>deposit</th>\n",
       "    </tr>\n",
       "  </thead>\n",
       "  <tbody>\n",
       "    <tr>\n",
       "      <th>0</th>\n",
       "      <td>May 2, 16</td>\n",
       "      <td>Haxe</td>\n",
       "      <td>Bamboo Massage</td>\n",
       "      <td>$159</td>\n",
       "      <td>NaN</td>\n",
       "    </tr>\n",
       "    <tr>\n",
       "      <th>1</th>\n",
       "      <td>May 2, 16</td>\n",
       "      <td>Petraniuk</td>\n",
       "      <td>Acrylic Nails</td>\n",
       "      <td>$32</td>\n",
       "      <td>NaN</td>\n",
       "    </tr>\n",
       "    <tr>\n",
       "      <th>2</th>\n",
       "      <td>May 2, 16</td>\n",
       "      <td>Sheremet</td>\n",
       "      <td>Acrylic Nails</td>\n",
       "      <td>$32</td>\n",
       "      <td>NaN</td>\n",
       "    </tr>\n",
       "    <tr>\n",
       "      <th>3</th>\n",
       "      <td>May 3, 16</td>\n",
       "      <td>Rusmanenko</td>\n",
       "      <td>Fire &amp; Ice</td>\n",
       "      <td>$350</td>\n",
       "      <td>NaN</td>\n",
       "    </tr>\n",
       "    <tr>\n",
       "      <th>4</th>\n",
       "      <td>May 3, 16</td>\n",
       "      <td>Kisly</td>\n",
       "      <td>Acrylic Nails</td>\n",
       "      <td>$32</td>\n",
       "      <td>NaN</td>\n",
       "    </tr>\n",
       "    <tr>\n",
       "      <th>5</th>\n",
       "      <td>May 4, 16</td>\n",
       "      <td>Tupis</td>\n",
       "      <td>Couples Massage</td>\n",
       "      <td>$269</td>\n",
       "      <td>NaN</td>\n",
       "    </tr>\n",
       "  </tbody>\n",
       "</table>\n",
       "</div>"
      ],
      "text/plain": [
       "        date      client        procedure price  deposit\n",
       "0  May 2, 16        Haxe   Bamboo Massage  $159      NaN\n",
       "1  May 2, 16   Petraniuk    Acrylic Nails   $32      NaN\n",
       "2  May 2, 16    Sheremet    Acrylic Nails   $32      NaN\n",
       "3  May 3, 16  Rusmanenko       Fire & Ice  $350      NaN\n",
       "4  May 3, 16       Kisly    Acrylic Nails   $32      NaN\n",
       "5  May 4, 16       Tupis  Couples Massage  $269      NaN"
      ]
     },
     "execution_count": 11,
     "metadata": {},
     "output_type": "execute_result"
    }
   ],
   "source": [
    "df_1 = pd.read_csv('Elegant.csv')\n",
    "df_2 = pd.read_csv('Radisson_Blu.csv')\n",
    "frames = [df_1, df_2]\n",
    "\n",
    "df = pd.concat(frames)\n",
    "df.sort_values(by='date')\n",
    "df.head(6)"
   ]
  },
  {
   "cell_type": "code",
   "execution_count": null,
   "metadata": {
    "collapsed": true
   },
   "outputs": [],
   "source": []
  }
 ],
 "metadata": {
  "kernelspec": {
   "display_name": "Python 3",
   "language": "python",
   "name": "python3"
  },
  "language_info": {
   "codemirror_mode": {
    "name": "ipython",
    "version": 3
   },
   "file_extension": ".py",
   "mimetype": "text/x-python",
   "name": "python",
   "nbconvert_exporter": "python",
   "pygments_lexer": "ipython3",
   "version": "3.4.3"
  }
 },
 "nbformat": 4,
 "nbformat_minor": 0
}
