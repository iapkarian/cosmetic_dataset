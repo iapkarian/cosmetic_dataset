{
 "cells": [
  {
   "cell_type": "code",
   "execution_count": 2,
   "metadata": {
    "collapsed": false
   },
   "outputs": [],
   "source": [
    "import numpy as np\n",
    "import pandas as pd\n",
    "import seaborn as sns\n",
    "import matplotlib.pyplot as plt\n",
    "\n",
    "%matplotlib inline\n",
    "\n",
    "# Set ipython's max row display\n",
    "pd.set_option('display.max_row', 1000)\n",
    "\n",
    "# Set iPython's max column width to 50\n",
    "pd.set_option('display.max_columns', 50)"
   ]
  },
  {
   "cell_type": "code",
   "execution_count": 3,
   "metadata": {
    "collapsed": false
   },
   "outputs": [],
   "source": [
    "df = pd.read_csv('cosmetic.csv')"
   ]
  },
  {
   "cell_type": "code",
   "execution_count": 4,
   "metadata": {
    "collapsed": false
   },
   "outputs": [
    {
     "data": {
      "text/html": [
       "<div>\n",
       "<table border=\"1\" class=\"dataframe\">\n",
       "  <thead>\n",
       "    <tr style=\"text-align: right;\">\n",
       "      <th></th>\n",
       "      <th>date</th>\n",
       "      <th>client</th>\n",
       "      <th>procedure</th>\n",
       "      <th>salon</th>\n",
       "    </tr>\n",
       "  </thead>\n",
       "  <tbody>\n",
       "    <tr>\n",
       "      <th>0</th>\n",
       "      <td>02/05/16</td>\n",
       "      <td>Haxe</td>\n",
       "      <td>Shampoo/Cut &amp; Style Dry</td>\n",
       "      <td>Elegant</td>\n",
       "    </tr>\n",
       "    <tr>\n",
       "      <th>1</th>\n",
       "      <td>02/05/16</td>\n",
       "      <td>Sheremet</td>\n",
       "      <td>Bamboo Massage</td>\n",
       "      <td>Radisson Blu</td>\n",
       "    </tr>\n",
       "    <tr>\n",
       "      <th>2</th>\n",
       "      <td>02/05/16</td>\n",
       "      <td>Gevorgyan</td>\n",
       "      <td>Elemis AromaSpa Seaweed Massage</td>\n",
       "      <td>Radisson Blu</td>\n",
       "    </tr>\n",
       "    <tr>\n",
       "      <th>3</th>\n",
       "      <td>02/05/16</td>\n",
       "      <td>Boorlyk</td>\n",
       "      <td>Acrylic Nails</td>\n",
       "      <td>Radisson Blu</td>\n",
       "    </tr>\n",
       "    <tr>\n",
       "      <th>4</th>\n",
       "      <td>02/05/16</td>\n",
       "      <td>Zavorotnikh</td>\n",
       "      <td>Elemis Total Glow Tanning Treatment</td>\n",
       "      <td>Elegant</td>\n",
       "    </tr>\n",
       "    <tr>\n",
       "      <th>5</th>\n",
       "      <td>03/05/16</td>\n",
       "      <td>Drozd</td>\n",
       "      <td>Island Braiding/Cornrows</td>\n",
       "      <td>Elegant</td>\n",
       "    </tr>\n",
       "    <tr>\n",
       "      <th>6</th>\n",
       "      <td>03/05/16</td>\n",
       "      <td>Arbuzov</td>\n",
       "      <td>Shampoo, blow wave or set</td>\n",
       "      <td>Elegant</td>\n",
       "    </tr>\n",
       "    <tr>\n",
       "      <th>7</th>\n",
       "      <td>03/05/16</td>\n",
       "      <td>Zhidkih</td>\n",
       "      <td>Acupuncture</td>\n",
       "      <td>Radisson Blu</td>\n",
       "    </tr>\n",
       "    <tr>\n",
       "      <th>8</th>\n",
       "      <td>03/05/16</td>\n",
       "      <td>Tupis</td>\n",
       "      <td>Acrylic Nails</td>\n",
       "      <td>Radisson Blu</td>\n",
       "    </tr>\n",
       "    <tr>\n",
       "      <th>9</th>\n",
       "      <td>03/05/16</td>\n",
       "      <td>Kisly</td>\n",
       "      <td>Hair put-up</td>\n",
       "      <td>Radisson Blu</td>\n",
       "    </tr>\n",
       "  </tbody>\n",
       "</table>\n",
       "</div>"
      ],
      "text/plain": [
       "       date       client                            procedure         salon\n",
       "0  02/05/16         Haxe              Shampoo/Cut & Style Dry       Elegant\n",
       "1  02/05/16     Sheremet                       Bamboo Massage  Radisson Blu\n",
       "2  02/05/16    Gevorgyan      Elemis AromaSpa Seaweed Massage  Radisson Blu\n",
       "3  02/05/16      Boorlyk                        Acrylic Nails  Radisson Blu\n",
       "4  02/05/16  Zavorotnikh  Elemis Total Glow Tanning Treatment       Elegant\n",
       "5  03/05/16        Drozd             Island Braiding/Cornrows       Elegant\n",
       "6  03/05/16      Arbuzov            Shampoo, blow wave or set       Elegant\n",
       "7  03/05/16      Zhidkih                          Acupuncture  Radisson Blu\n",
       "8  03/05/16        Tupis                        Acrylic Nails  Radisson Blu\n",
       "9  03/05/16        Kisly                          Hair put-up  Radisson Blu"
      ]
     },
     "execution_count": 4,
     "metadata": {},
     "output_type": "execute_result"
    }
   ],
   "source": [
    "df.head(10)"
   ]
  },
  {
   "cell_type": "code",
   "execution_count": 5,
   "metadata": {
    "collapsed": false
   },
   "outputs": [
    {
     "data": {
      "text/html": [
       "<div>\n",
       "<table border=\"1\" class=\"dataframe\">\n",
       "  <thead>\n",
       "    <tr style=\"text-align: right;\">\n",
       "      <th></th>\n",
       "      <th>Type</th>\n",
       "      <th>Name</th>\n",
       "      <th>Price</th>\n",
       "    </tr>\n",
       "  </thead>\n",
       "  <tbody>\n",
       "    <tr>\n",
       "      <th>0</th>\n",
       "      <td>Massage</td>\n",
       "      <td>Acupuncture</td>\n",
       "      <td>$150</td>\n",
       "    </tr>\n",
       "    <tr>\n",
       "      <th>1</th>\n",
       "      <td>Massage</td>\n",
       "      <td>Swedish Massage</td>\n",
       "      <td>$75</td>\n",
       "    </tr>\n",
       "    <tr>\n",
       "      <th>2</th>\n",
       "      <td>Massage</td>\n",
       "      <td>Thai Herbal Poultice</td>\n",
       "      <td>$195</td>\n",
       "    </tr>\n",
       "    <tr>\n",
       "      <th>3</th>\n",
       "      <td>Massage</td>\n",
       "      <td>Bamboo Massage</td>\n",
       "      <td>$159</td>\n",
       "    </tr>\n",
       "    <tr>\n",
       "      <th>4</th>\n",
       "      <td>Massage</td>\n",
       "      <td>Couples Massage</td>\n",
       "      <td>$269</td>\n",
       "    </tr>\n",
       "  </tbody>\n",
       "</table>\n",
       "</div>"
      ],
      "text/plain": [
       "      Type                  Name Price\n",
       "0  Massage           Acupuncture  $150\n",
       "1  Massage       Swedish Massage   $75\n",
       "2  Massage  Thai Herbal Poultice  $195\n",
       "3  Massage        Bamboo Massage  $159\n",
       "4  Massage       Couples Massage  $269"
      ]
     },
     "execution_count": 5,
     "metadata": {},
     "output_type": "execute_result"
    }
   ],
   "source": [
    "df_price = pd.read_csv('procedure_price.csv')\n",
    "df_price.head(5)"
   ]
  },
  {
   "cell_type": "code",
   "execution_count": 6,
   "metadata": {
    "collapsed": false
   },
   "outputs": [],
   "source": [
    "client_list = []\n",
    "\n",
    "for elem in df['client'].unique():\n",
    "    if type(elem) == str:\n",
    "        client_list.append(elem)\n",
    "    else:\n",
    "        continue"
   ]
  },
  {
   "cell_type": "code",
   "execution_count": 15,
   "metadata": {
    "collapsed": false
   },
   "outputs": [
    {
     "data": {
      "text/plain": [
       "client\n",
       "Arbuzov         3\n",
       "Avagyan         3\n",
       "Barda           3\n",
       "Boorlyk         3\n",
       "Drozd           3\n",
       "Gerwyn          3\n",
       "Gevorgyan       5\n",
       "Kann            3\n",
       "Kisly           3\n",
       "Martens         4\n",
       "Sheremet        5\n",
       "Shpirka         3\n",
       "Zavorotnikh     3\n",
       "Zhidkih         3\n",
       "Zvjagintseva    3\n",
       "dtype: int64"
      ]
     },
     "execution_count": 15,
     "metadata": {},
     "output_type": "execute_result"
    }
   ],
   "source": [
    "#Regular clients\n",
    "reg_client = df.groupby('client').size()\n",
    "reg_client[reg_client>=3]"
   ]
  },
  {
   "cell_type": "code",
   "execution_count": 8,
   "metadata": {
    "collapsed": false
   },
   "outputs": [
    {
     "data": {
      "text/plain": [
       "<matplotlib.axes._subplots.AxesSubplot at 0x7f2ffe138fd0>"
      ]
     },
     "execution_count": 8,
     "metadata": {},
     "output_type": "execute_result"
    },
    {
     "data": {
      "image/png": "[encoded data removed]",
      "text/plain": [
       "<matplotlib.figure.Figure at 0x7f2ffe115da0>"
      ]
     },
     "metadata": {},
     "output_type": "display_data"
    }
   ],
   "source": [
    "#How many clients come every day?\n",
    "date_cl = df.groupby('date').size()\n",
    "plt.figure(figsize=(12,5))\n",
    "date_cl.plot()\n"
   ]
  },
  {
   "cell_type": "code",
   "execution_count": 10,
   "metadata": {
    "collapsed": false
   },
   "outputs": [],
   "source": [
    "data = {'date': df['date'],\n",
    "        'procedure': df['procedure'],\n",
    "        'price': df_price['Price']}\n",
    "\n",
    "q = pd.DataFrame(data)\n",
    "#bug"
   ]
  }
 ],
 "metadata": {
  "kernelspec": {
   "display_name": "Python 3",
   "language": "python",
   "name": "python3"
  },
  "language_info": {
   "codemirror_mode": {
    "name": "ipython",
    "version": 3
   },
   "file_extension": ".py",
   "mimetype": "text/x-python",
   "name": "python",
   "nbconvert_exporter": "python",
   "pygments_lexer": "ipython3",
   "version": "3.4.3"
  }
 },
 "nbformat": 4,
 "nbformat_minor": 0
}
