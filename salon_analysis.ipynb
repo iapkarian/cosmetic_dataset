{
 "cells": [
  {
   "cell_type": "code",
   "execution_count": 2,
   "metadata": {
    "collapsed": true
   },
   "outputs": [],
   "source": [
    "import pandas as pd\n",
    "from ggplot import *\n",
    "import numpy as np\n",
    "%matplotlib inline\n",
    "\n",
    "# Set ipython's max row display\n",
    "pd.set_option('display.max_row', 1000)\n",
    "\n",
    "# Set iPython's max column width to 50\n",
    "pd.set_option('display.max_columns', 50)"
   ]
  },
  {
   "cell_type": "code",
   "execution_count": 3,
   "metadata": {
    "collapsed": false
   },
   "outputs": [],
   "source": [
    "df = pd.read_csv('cosmetic.csv')"
   ]
  },
  {
   "cell_type": "code",
   "execution_count": 4,
   "metadata": {
    "collapsed": false
   },
   "outputs": [
    {
     "data": {
      "text/html": [
       "<div>\n",
       "<table border=\"1\" class=\"dataframe\">\n",
       "  <thead>\n",
       "    <tr style=\"text-align: right;\">\n",
       "      <th></th>\n",
       "      <th>date</th>\n",
       "      <th>client</th>\n",
       "      <th>procedure</th>\n",
       "      <th>salon</th>\n",
       "    </tr>\n",
       "  </thead>\n",
       "  <tbody>\n",
       "    <tr>\n",
       "      <th>0</th>\n",
       "      <td>02/05/16</td>\n",
       "      <td>Shpirka</td>\n",
       "      <td>Shampoo/Cut &amp; Style Dry</td>\n",
       "      <td>Elegant</td>\n",
       "    </tr>\n",
       "    <tr>\n",
       "      <th>1</th>\n",
       "      <td>02/05/16</td>\n",
       "      <td>Sheremet</td>\n",
       "      <td>Bamboo Massage</td>\n",
       "      <td>Radisson Blu</td>\n",
       "    </tr>\n",
       "    <tr>\n",
       "      <th>2</th>\n",
       "      <td>02/05/16</td>\n",
       "      <td>Gevorgyan</td>\n",
       "      <td>Elemis AromaSpa Seaweed Massage</td>\n",
       "      <td>Radisson Blu</td>\n",
       "    </tr>\n",
       "    <tr>\n",
       "      <th>3</th>\n",
       "      <td>02/05/16</td>\n",
       "      <td>Boorlyk</td>\n",
       "      <td>Acrylic Nails</td>\n",
       "      <td>Radisson Blu</td>\n",
       "    </tr>\n",
       "    <tr>\n",
       "      <th>4</th>\n",
       "      <td>02/05/16</td>\n",
       "      <td>Zavorotnikh</td>\n",
       "      <td>Elemis Total Glow Tanning Treatment</td>\n",
       "      <td>Elegant</td>\n",
       "    </tr>\n",
       "    <tr>\n",
       "      <th>5</th>\n",
       "      <td>03/05/16</td>\n",
       "      <td>Drozd</td>\n",
       "      <td>Island Braiding/Cornrows</td>\n",
       "      <td>Elegant</td>\n",
       "    </tr>\n",
       "    <tr>\n",
       "      <th>6</th>\n",
       "      <td>03/05/16</td>\n",
       "      <td>Arbuzov</td>\n",
       "      <td>Shampoo, blow wave or set</td>\n",
       "      <td>Elegant</td>\n",
       "    </tr>\n",
       "    <tr>\n",
       "      <th>7</th>\n",
       "      <td>03/05/16</td>\n",
       "      <td>Shpirka</td>\n",
       "      <td>Acupuncture</td>\n",
       "      <td>Radisson Blu</td>\n",
       "    </tr>\n",
       "    <tr>\n",
       "      <th>8</th>\n",
       "      <td>03/05/16</td>\n",
       "      <td>Tupis</td>\n",
       "      <td>Acrylic Nails</td>\n",
       "      <td>Radisson Blu</td>\n",
       "    </tr>\n",
       "    <tr>\n",
       "      <th>9</th>\n",
       "      <td>03/05/16</td>\n",
       "      <td>Chelyadina</td>\n",
       "      <td>Hair put-up</td>\n",
       "      <td>Radisson Blu</td>\n",
       "    </tr>\n",
       "  </tbody>\n",
       "</table>\n",
       "</div>"
      ],
      "text/plain": [
       "       date       client                            procedure         salon\n",
       "0  02/05/16      Shpirka              Shampoo/Cut & Style Dry       Elegant\n",
       "1  02/05/16     Sheremet                       Bamboo Massage  Radisson Blu\n",
       "2  02/05/16    Gevorgyan      Elemis AromaSpa Seaweed Massage  Radisson Blu\n",
       "3  02/05/16      Boorlyk                        Acrylic Nails  Radisson Blu\n",
       "4  02/05/16  Zavorotnikh  Elemis Total Glow Tanning Treatment       Elegant\n",
       "5  03/05/16        Drozd             Island Braiding/Cornrows       Elegant\n",
       "6  03/05/16      Arbuzov            Shampoo, blow wave or set       Elegant\n",
       "7  03/05/16      Shpirka                          Acupuncture  Radisson Blu\n",
       "8  03/05/16        Tupis                        Acrylic Nails  Radisson Blu\n",
       "9  03/05/16   Chelyadina                          Hair put-up  Radisson Blu"
      ]
     },
     "execution_count": 4,
     "metadata": {},
     "output_type": "execute_result"
    }
   ],
   "source": [
    "df.head(10)"
   ]
  },
  {
   "cell_type": "code",
   "execution_count": null,
   "metadata": {
    "collapsed": true
   },
   "outputs": [],
   "source": []
  }
 ],
 "metadata": {
  "kernelspec": {
   "display_name": "Python 3",
   "language": "python",
   "name": "python3"
  },
  "language_info": {
   "codemirror_mode": {
    "name": "ipython",
    "version": 3
   },
   "file_extension": ".py",
   "mimetype": "text/x-python",
   "name": "python",
   "nbconvert_exporter": "python",
   "pygments_lexer": "ipython3",
   "version": "3.4.3"
  }
 },
 "nbformat": 4,
 "nbformat_minor": 0
}
